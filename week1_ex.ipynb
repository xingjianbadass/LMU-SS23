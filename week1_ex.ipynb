{
 "cells": [
  {
   "cell_type": "markdown",
   "id": "61c97f04",
   "metadata": {},
   "source": [
    "# Week 1 Exercise\n",
    "\n",
    "## Ex_1"
   ]
  },
  {
   "cell_type": "code",
   "execution_count": 2,
   "id": "60af7a61",
   "metadata": {},
   "outputs": [
    {
     "name": "stdout",
     "output_type": "stream",
     "text": [
      "5.0\n"
     ]
    }
   ],
   "source": [
    "my_v = 3\n",
    "my_v = 5\n",
    "my_v = float(my_v)\n",
    "print(my_v)"
   ]
  },
  {
   "cell_type": "markdown",
   "id": "2f3d1cdf",
   "metadata": {},
   "source": [
    "Explanation:\n",
    "1. I assigned the value of 3 to the variable my_v.\n",
    "2. I reassigned the value of 5 to the variable my_v.\n",
    "3. I changed the type of my_v to float.\n",
    "4. I printed my_v."
   ]
  },
  {
   "cell_type": "markdown",
   "id": "9660e4f6",
   "metadata": {},
   "source": [
    "## Ex_2"
   ]
  },
  {
   "cell_type": "code",
   "execution_count": 4,
   "id": "a59215ae",
   "metadata": {},
   "outputs": [
    {
     "name": "stdout",
     "output_type": "stream",
     "text": [
      "a value for that?b\n",
      "another value for that?1\n",
      "Hello b aged 1!\n"
     ]
    }
   ],
   "source": [
    "name = input(\"a value for that?\")\n",
    "age = input(\"another value for that?\")\n",
    "print(\"Hello \" + str(name) + \" aged \" + str(age) + \"!\")"
   ]
  },
  {
   "cell_type": "markdown",
   "id": "bcd25204",
   "metadata": {},
   "source": [
    "Explanation:\n",
    "1. I assigned the value of answer to \"a value for that?\" to the variable name.\n",
    "2. I assigned the value of answer to \"another value for that?\" to the variable age.\n",
    "3. I printed the sentence using concatenation."
   ]
  },
  {
   "cell_type": "markdown",
   "id": "16aba23a",
   "metadata": {},
   "source": [
    "## Ex_3"
   ]
  },
  {
   "cell_type": "code",
   "execution_count": null,
   "id": "058992aa",
   "metadata": {},
   "outputs": [],
   "source": [
    "this_is_true = True\n",
    "this_is_false = False\n",
    "is_this_true_or_false = bool(input(\"Is this true or false?\"))\n",
    "print(\"The first variable is {}, the second one is {}. and you have chosen {}\".format(this_is_true, this_is_false, is_this_true_or_false))"
   ]
  },
  {
   "cell_type": "markdown",
   "id": "c62d965a",
   "metadata": {},
   "source": [
    "Explanation:\n",
    "1. I assigned the value of True to the boolean variable this_is_true.\n",
    "2. I assigned the value of False to the boolean variable this_is_false.\n",
    "3. I assigned the value of boolean answer to \"Is this true or false?\" to the boolean variable is_this_true_or_false.\n",
    "4. I printed the sentence using string formatting."
   ]
  },
  {
   "cell_type": "markdown",
   "id": "fdd77e86",
   "metadata": {},
   "source": [
    "## Summary"
   ]
  },
  {
   "cell_type": "markdown",
   "id": "fb9bb66e",
   "metadata": {},
   "source": [
    "| Exercises | Main functions                                             |\n",
    "|-----------|------------------------------------------------------------|\n",
    "| Ex_1      | assigning values (int), changing value types, printing     |\n",
    "| Ex_2      | assigning values (int), inputting, concatenation, printing |\n",
    "| Ex_3      | assigning values (bool), string formatting, printing       |"
   ]
  }
 ],
 "metadata": {
  "kernelspec": {
   "display_name": "Python 3 (ipykernel)",
   "language": "python",
   "name": "python3"
  },
  "language_info": {
   "codemirror_mode": {
    "name": "ipython",
    "version": 3
   },
   "file_extension": ".py",
   "mimetype": "text/x-python",
   "name": "python",
   "nbconvert_exporter": "python",
   "pygments_lexer": "ipython3",
   "version": "3.10.1"
  }
 },
 "nbformat": 4,
 "nbformat_minor": 5
}
