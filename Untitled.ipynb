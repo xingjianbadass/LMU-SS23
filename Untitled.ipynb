{
 "cells": [
  {
   "cell_type": "markdown",
   "id": "a6b6e7a4",
   "metadata": {},
   "source": [
    "# W2 Exercises\n",
    "\n",
    "## Ex_2.1"
   ]
  },
  {
   "cell_type": "markdown",
   "id": "37b6d69d",
   "metadata": {},
   "source": [
    "### Code:"
   ]
  },
  {
   "cell_type": "code",
   "execution_count": 1,
   "id": "0290219d",
   "metadata": {},
   "outputs": [
    {
     "name": "stdout",
     "output_type": "stream",
     "text": [
      "Please enter your age: 6\n",
      "You will turn 18 in 12 years.\n"
     ]
    }
   ],
   "source": [
    "a = int(input(\"Please enter your age: \"))\n",
    "b = 18\n",
    "if a < b:\n",
    "    print(\"You will turn 18 in \" + str(b - a) + \" years.\")\n",
    "elif a == b:\n",
    "        print(\"You are 18!\")\n",
    "elif a > b:\n",
    "    print(\"You turned 18 \" + str(a - b) + \" years ago.\")"
   ]
  },
  {
   "cell_type": "markdown",
   "id": "9b471d0d",
   "metadata": {},
   "source": [
    "### Explanation:\n",
    "- I assigned a the integer value of input.\n",
    "- I assinged b the integer value of 18.\n",
    "- I used three conditional orders with comparisons in them to generate the answer."
   ]
  },
  {
   "cell_type": "markdown",
   "id": "dfecdf25",
   "metadata": {},
   "source": [
    "## Ex_2.2"
   ]
  },
  {
   "cell_type": "markdown",
   "id": "6181153b",
   "metadata": {},
   "source": [
    "### Code:"
   ]
  },
  {
   "cell_type": "code",
   "execution_count": 5,
   "id": "fe14ca0f",
   "metadata": {},
   "outputs": [
    {
     "name": "stdout",
     "output_type": "stream",
     "text": [
      "Please enter one number.4\n",
      "Please enter another number.3\n",
      "12\n"
     ]
    }
   ],
   "source": [
    "a = int(input(\"Please enter one number.\"))\n",
    "b = int(input(\"Please enter another number.\"))\n",
    "if a % 2 == 0 and b % 2 == 0:\n",
    "    print(a + b)\n",
    "elif a % 2 == 1 and b % 2 == 1:\n",
    "    print(a - b)\n",
    "elif (a % 2 == 1 and b % 2 == 0) or (a % 2 == 0 and b % 2 == 1):\n",
    "    print(a * b)"
   ]
  },
  {
   "cell_type": "markdown",
   "id": "72c6d208",
   "metadata": {},
   "source": [
    "### Explanation:"
   ]
  },
  {
   "cell_type": "markdown",
   "id": "ee11f8d5",
   "metadata": {},
   "source": [
    "- I assigned a and b the integer value of input.\n",
    "- I used four conditional orders with comparisons in them to generate the answer.\n",
    "- For the \"If one is even and one is odd\" assignment, I listed all possible inputs."
   ]
  },
  {
   "cell_type": "markdown",
   "id": "59afb46d",
   "metadata": {},
   "source": [
    "## Ex_2.3"
   ]
  },
  {
   "cell_type": "markdown",
   "id": "c714186a",
   "metadata": {},
   "source": [
    "### Code:"
   ]
  },
  {
   "cell_type": "code",
   "execution_count": 6,
   "id": "66f3268b",
   "metadata": {},
   "outputs": [
    {
     "name": "stdout",
     "output_type": "stream",
     "text": [
      "Please enter the radius of the circle.10\n",
      "The area is 314.1592653589793\n"
     ]
    }
   ],
   "source": [
    "import math\n",
    "a = float(input(\"Please enter the radius of the circle.\"))\n",
    "pi = math.pi\n",
    "print(\"The area is \" + str(pi * a ** 2))"
   ]
  },
  {
   "cell_type": "markdown",
   "id": "86e8bb00",
   "metadata": {},
   "source": [
    "### Explanation:\n",
    "- I imported the math package.\n",
    "- I assigned a the float value of input.\n",
    "- I assigned pi the value of pi in the math package.\n",
    "- I printed the value of area."
   ]
  },
  {
   "cell_type": "markdown",
   "id": "b5b4baf2",
   "metadata": {},
   "source": [
    "## Ex_2.4\n",
    "### Code:"
   ]
  },
  {
   "cell_type": "code",
   "execution_count": 7,
   "id": "4fd27078",
   "metadata": {},
   "outputs": [
    {
     "name": "stdout",
     "output_type": "stream",
     "text": [
      "Please enter a grade between 1 and 4.3\n",
      "21\n"
     ]
    }
   ],
   "source": [
    "a = float(input(\"Please enter a grade between 1 and 4.\"))\n",
    "if a == 1:\n",
    "    print(30)\n",
    "elif a > 1 and a < 2:\n",
    "    print(27)\n",
    "elif a >= 2 and a < 3:\n",
    "    print(24)\n",
    "elif a >= 3 and a < 4:\n",
    "    print(21)\n",
    "elif a == 4:\n",
    "    print(18)\n",
    "elif a > 4:\n",
    "    print(\"Fail\")\n",
    "elif a < 1:\n",
    "    print(\"Fail\")"
   ]
  },
  {
   "cell_type": "markdown",
   "id": "f584ceee",
   "metadata": {},
   "source": [
    "### Explanation:\n",
    "- I assigned a the float value of input.\n",
    "- I used 6 conditional orders with comparisons in them to generate the answer."
   ]
  },
  {
   "cell_type": "code",
   "execution_count": null,
   "id": "0bee302d",
   "metadata": {},
   "outputs": [],
   "source": []
  }
 ],
 "metadata": {
  "kernelspec": {
   "display_name": "Python 3 (ipykernel)",
   "language": "python",
   "name": "python3"
  },
  "language_info": {
   "codemirror_mode": {
    "name": "ipython",
    "version": 3
   },
   "file_extension": ".py",
   "mimetype": "text/x-python",
   "name": "python",
   "nbconvert_exporter": "python",
   "pygments_lexer": "ipython3",
   "version": "3.10.1"
  }
 },
 "nbformat": 4,
 "nbformat_minor": 5
}
